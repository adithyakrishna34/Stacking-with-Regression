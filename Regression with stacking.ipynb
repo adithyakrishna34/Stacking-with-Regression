{
 "cells": [
  {
   "cell_type": "code",
   "execution_count": 6,
   "id": "e61b5a0a-95ca-4555-bd59-fe3e8fc1fde8",
   "metadata": {},
   "outputs": [],
   "source": [
    "from numpy import mean\n",
    "from sklearn.datasets import make_regression\n",
    "from sklearn.model_selection import cross_val_score,RepeatedKFold\n",
    "from sklearn.linear_model import LinearRegression\n",
    "from sklearn.neighbors import KNeighborsRegressor\n",
    "from sklearn.tree import DecisionTreeRegressor\n",
    "from sklearn.svm import SVR\n",
    "from sklearn.ensemble import StackingRegressor"
   ]
  },
  {
   "cell_type": "code",
   "execution_count": 2,
   "id": "fcabbc82-110c-42d7-a29d-05bd2e865b1e",
   "metadata": {},
   "outputs": [],
   "source": [
    "X,y=make_regression(n_samples=1000,n_features=20,random_state=1)"
   ]
  },
  {
   "cell_type": "code",
   "execution_count": 7,
   "id": "1bb66a5e-ba85-4d55-b866-660732963ce3",
   "metadata": {},
   "outputs": [],
   "source": [
    "def get_stacking():\n",
    "    level0=list()\n",
    "    level0.append(('knn',KNeighborsRegressor()))\n",
    "    level0.append(('svm',SVR()))\n",
    "    level1=LinearRegression()\n",
    "    model=StackingRegressor(estimators=level0,final_estimator=level1)\n",
    "    return model\n",
    "# Level0 is base model\n",
    "#Level1 is meta model\n",
    "#Level0 is list due to it having multiple models in it\n",
    "    "
   ]
  },
  {
   "cell_type": "code",
   "execution_count": 13,
   "id": "39127f90-fad6-4b0e-a84e-23fe5b16ced3",
   "metadata": {},
   "outputs": [],
   "source": [
    "def get_models():\n",
    "    models=dict()\n",
    "    models['knn']=KNeighborsRegressor()\n",
    "    models['cart']=DecisionTreeRegressor()\n",
    "    models['svm']=SVR()\n",
    "    models['stacking']=get_stacking()\n",
    "    return models\n"
   ]
  },
  {
   "cell_type": "code",
   "execution_count": 14,
   "id": "cd11587a-8a1a-45c4-8d3c-665c69a969b7",
   "metadata": {},
   "outputs": [],
   "source": [
    "def evaluate_model(model,X,y):\n",
    "    cv=RepeatedKFold(n_splits=10,n_repeats=3,random_state=1)\n",
    "    scores=cross_val_score(model,X,y,scoring='neg_mean_absolute_error',cv=cv)\n",
    "    return scores\n",
    "    "
   ]
  },
  {
   "cell_type": "code",
   "execution_count": 15,
   "id": "457b33df-3b5d-470b-a7f1-94f2dc0447fc",
   "metadata": {},
   "outputs": [
    {
     "name": "stdout",
     "output_type": "stream",
     "text": [
      "knn -72.38368150286077\n",
      "cart -89.1569578906282\n",
      "svm -113.9538393363414\n",
      "stacking -42.45318578136722\n"
     ]
    }
   ],
   "source": [
    "models=get_models()\n",
    "results,names=list(),list()\n",
    "for name,model in models.items():\n",
    "    scores=evaluate_model(model,X,y)\n",
    "    results.append(scores)\n",
    "    names.append(model)\n",
    "    print(name,mean(scores))"
   ]
  },
  {
   "cell_type": "code",
   "execution_count": null,
   "id": "f95a319d-10cf-4172-96e3-ec0b8624b47d",
   "metadata": {},
   "outputs": [],
   "source": []
  }
 ],
 "metadata": {
  "kernelspec": {
   "display_name": "Python 3 (ipykernel)",
   "language": "python",
   "name": "python3"
  },
  "language_info": {
   "codemirror_mode": {
    "name": "ipython",
    "version": 3
   },
   "file_extension": ".py",
   "mimetype": "text/x-python",
   "name": "python",
   "nbconvert_exporter": "python",
   "pygments_lexer": "ipython3",
   "version": "3.10.0"
  }
 },
 "nbformat": 4,
 "nbformat_minor": 5
}
